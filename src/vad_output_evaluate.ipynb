{
 "cells": [
  {
   "cell_type": "markdown",
   "metadata": {},
   "source": [
    "### Model output evaluation notebook.\n",
    "Inspired by Karel Vesely's apply_vad_segmenter.py script."
   ]
  },
  {
   "cell_type": "code",
   "execution_count": 46,
   "metadata": {},
   "outputs": [
    {
     "data": {
      "image/png": "[encoded data removed]",
      "text/plain": [
       "<Figure size 576x288 with 1 Axes>"
      ]
     },
     "metadata": {
      "needs_background": "light"
     },
     "output_type": "display_data"
    }
   ],
   "source": [
    "### import numpy as np\n",
    "import torch\n",
    "import matplotlib.pyplot as plt\n",
    "import sys\n",
    "\n",
    "from vad import Net\n",
    "\n",
    "smooth_window = 31\n",
    "speech_threshold = 0.5\n",
    "min_segment_dur = 10\n",
    "extra_speech_frames = 30\n",
    "\n",
    "logit = np.random.random(2048)\n",
    "N = smooth_window\n",
    "s = np.cumsum(logit)\n",
    "logit_smooth = np.hstack([ logit[:N//2], (s[N:] - s[:-N]) // N, logit[-N//2:] ])\n",
    "\n",
    "f = plt.figure(figsize=(8,4));\n",
    "# histogram\n",
    "y,x = np.histogram(logit_smooth, bins=50, density=True)\n",
    "plt.plot(x[1:],y,'b',label='scores in unsegmented recording');\n",
    "plt.plot([speech_threshold,speech_threshold],[0,np.max(y)],'r--', label='decision-threshold');\n",
    "plt.xlabel('score, smoothed per-frame logit-posteiors'); plt.ylabel('p(score)');\n",
    "plt.grid(); plt.legend(); plt.tight_layout();"
   ]
  },
  {
   "cell_type": "code",
   "execution_count": 50,
   "metadata": {},
   "outputs": [
    {
     "name": "stdout",
     "output_type": "stream",
     "text": [
      "[[   9   10]\n",
      " [  14   15]\n",
      " [2034 2035]\n",
      " [2036 2037]\n",
      " [2038 2039]\n",
      " [2040 2043]\n",
      " [2044 2047]]\n"
     ]
    }
   ],
   "source": [
    "for i in range(1):\n",
    "    # Get the segments,\n",
    "    score = logit_smooth # will use smoothed logit-posterior scores,\n",
    "    thr = speech_threshold # the decision threshold\n",
    "    num_frames = logit_smooth.shape[0]\n",
    "    #\n",
    "    decisions = np.r_[False, score > thr, False] # score bigger than threshold is speech,\n",
    "    speech_segs_raw = np.nonzero(decisions[1:] != decisions[:-1])[0].reshape(-1,2)\n",
    "    if len(speech_segs_raw) == 0:\n",
    "        continue\n",
    "        \n",
    "    # Frame extension,\n",
    "    Next = extra_speech_frames\n",
    "    speech_segs_ext = np.array(list(zip(speech_segs_raw[:,0] - Next, speech_segs_raw[:,1] + Next)))\n",
    "    speech_segs_ext[speech_segs_ext<0] = 0\n",
    "    speech_segs_ext[speech_segs_ext>=num_frames] = num_frames\n",
    "\n",
    "    # Merge overlapping segments,\n",
    "    decisions_ext = np.zeros(num_frames + 2)\n",
    "    for (b,e) in speech_segs_ext : decisions_ext[b+1:e+1] = 1\n",
    "    speech_segs_ext = np.nonzero(decisions_ext[1:] != decisions_ext[:-1])[0].reshape(-1,2)\n",
    "    \n",
    "    \n",
    "    # Make sure no raw-segment is shorter than 0.10s,\n",
    "    Tmin = min_segment_dur + 2*(Next if Next > 0 else 0)\n",
    "    speech_segs = speech_segs_ext[(speech_segs_ext[:,1]-speech_segs_ext[:,0])>Tmin]\n",
    "    if len(speech_segs) == 0: # no-speech-found! (all segments dropped, min duration)\n",
    "        continue\n",
    "        \n",
    "    # Add to segments\n",
    "    #segments.append(['%s!%07d-%07d %s %06.2f %06.2f' % (utt,beg,end,utt,beg/100.,end/100.) for beg,end in speech_segs])\n",
    "\n",
    "        "
   ]
  },
  {
   "cell_type": "code",
   "execution_count": null,
   "metadata": {},
   "outputs": [],
   "source": []
  },
  {
   "cell_type": "code",
   "execution_count": null,
   "metadata": {},
   "outputs": [],
   "source": []
  }
 ],
 "metadata": {
  "kernelspec": {
   "display_name": "Python 3",
   "language": "python",
   "name": "python3"
  },
  "language_info": {
   "codemirror_mode": {
    "name": "ipython",
    "version": 3
   },
   "file_extension": ".py",
   "mimetype": "text/x-python",
   "name": "python",
   "nbconvert_exporter": "python",
   "pygments_lexer": "ipython3",
   "version": "3.9.1"
  }
 },
 "nbformat": 4,
 "nbformat_minor": 4
}
