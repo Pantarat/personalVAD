{
 "cells": [
  {
   "cell_type": "markdown",
   "metadata": {},
   "source": [
    "# Personal VAD architecture evaluation\n",
    "This notebook serves as a tool for model evaluation."
   ]
  },
  {
   "cell_type": "code",
   "execution_count": 1,
   "metadata": {},
   "outputs": [],
   "source": [
    "import numpy as np\n",
    "import matplotlib.pyplot as plt\n",
    "import matplotlib as mpl\n",
    "import soundfile as sf\n",
    "import pickle\n",
    "from copy import copy\n",
    "import torch\n",
    "from personal_vad import PersonalVAD"
   ]
  },
  {
   "cell_type": "code",
   "execution_count": 2,
   "metadata": {},
   "outputs": [],
   "source": [
    "# first, load the testing dataset and prepare the testing loop\n",
    "from personal_vad import PersonalVAD, WPL, pad_collate\n",
    "from vad_et import VadETDataset, VadETDatasetArk\n",
    "from vad_set import VadSETDatasetArk, VadSETDataset\n",
    "from vad_st import VadSTDatasetArk, VadSTDataset\n",
    "from vad_xvector import VadETDatasetArkX\n",
    "from torch.utils.data import DataLoader\n",
    "from torch.nn.utils.rnn import pack_padded_sequence\n",
    "from sklearn.metrics import average_precision_score, confusion_matrix\n",
    "import kaldiio\n",
    "import os\n",
    "import ml_metrics as metrics\n",
    "USE_KALDI = True"
   ]
  },
  {
   "cell_type": "code",
   "execution_count": 221,
   "metadata": {},
   "outputs": [
    {
     "name": "stdout",
     "output_type": "stream",
     "text": [
      "130563\n"
     ]
    }
   ],
   "source": [
    "# load the model\n",
    "test_dir = '/home/pirx/Devel/bp/personalVAD/data/train_dir/'\n",
    "os.chdir(test_dir)\n",
    "\n",
    "#model = PersonalVAD(input_dim=552, hidden_dim=64, num_layers=2, out_dim=3)\n",
    "#model.load_state_dict(torch.load('models/final/vad_et_10ep_xvec_l2.pt'))\n",
    "#test_data = VadETDatasetArkX('data/test', 'embeddings_xvec_l2_non_negative')\n",
    "\n",
    "#model = PersonalVAD(input_dim=297, hidden_dim=64, num_layers=2, out_dim=3)\n",
    "#model.load_state_dict(torch.load('models/final/vad_set_tanh_score2_10ep.pt'))\n",
    "#test_data = VadSETDatasetArk('data/test', 'embeddings', score_type=2)\n",
    "\n",
    "model = PersonalVAD(input_dim=296, hidden_dim=64, num_layers=2, out_dim=3)\n",
    "model.load_state_dict(torch.load('models/final/vad_et_10ep_tanh_wpl_0.5.pt'))\n",
    "##model.load_state_dict(torch.load('models/final/vad_et_10ep_tanh.pt'))\n",
    "##model.load_state_dict(torch.load('models/final/vad_et_10ep_linear.pt'))\n",
    "test_data = VadETDatasetArk('data/test', 'embeddings')\n",
    "\n",
    "pytorch_total_params = sum(p.numel() for p in model.parameters())\n",
    "print(pytorch_total_params)"
   ]
  },
  {
   "cell_type": "code",
   "execution_count": 228,
   "metadata": {},
   "outputs": [
    {
     "name": "stdout",
     "output_type": "stream",
     "text": [
      "torch.Size([579])\n"
     ]
    }
   ],
   "source": [
    "#FILE = '1_flac/rev1-251-137823-0013_3853-163249-0030_777-126732-0056'\n",
    "\n",
    "x, y = test_data.__getitem__(664)\n",
    "print(y.shape)\n",
    "\n",
    "\"\"\"\n",
    "FILE = '0_concat/887-123290-0008_587-41619-0013_5390-30102-0004'\n",
    "with np.load('../data/features_old/pvad/test/' + FILE + '.pvad.fea.npz') as f:\n",
    "    x = f['x']\n",
    "    embed = f['embed']\n",
    "    y = f['y']\n",
    "    #scores = f['scores']\n",
    "    #x = np.hstack((x, np.expand_dims(scores, 1)))\n",
    "    x = np.hstack((x, np.full((x.shape[0], 256), embed)))\n",
    "\n",
    "audio, sr = sf.read('/run/media/pirx/Elements/pirx/personalVAD/data/concat/train_clean_100/' + FILE + '.flac')\n",
    "\"\"\"\n",
    "\n",
    "new_y = np.kron(y.numpy(), np.ones(160))\n",
    "#new_x = np.kron(x[:,0] + x[:,1], np.ones(160))"
   ]
  },
  {
   "cell_type": "code",
   "execution_count": 229,
   "metadata": {},
   "outputs": [],
   "source": [
    "# get the model to generate a label vector for us\n",
    "\n",
    "conv_filter = np.array([1/8]*8)\n",
    "conv_filter2 = np.cos([1, 0, -1, 0])\n",
    "\n",
    "with torch.no_grad():\n",
    "    x_torch = torch.unsqueeze(x, 0)\n",
    "    \n",
    "    softmax = torch.nn.Softmax(dim=1)\n",
    "    \n",
    "    if x.shape[0] > 2000 and False:\n",
    "        stop = 1000\n",
    "        output_raw1 = torch.squeeze(model(x_torch[:,:stop,:], torch.unsqueeze(torch.tensor(x[:stop,:].shape[0]), dim=0), None)[0])\n",
    "        output_raw2 = torch.squeeze(model(x_torch[:,stop:,:], torch.unsqueeze(torch.tensor(x[stop:,:].shape[0]), dim=0), None)[0])\n",
    "        output_raw = torch.cat((output_raw1, output_raw2))\n",
    "    else:\n",
    "        output_raw = torch.squeeze(model(x_torch, torch.unsqueeze(torch.tensor(x.shape[0]), dim=0), None)[0])\n",
    "    \n",
    "    \n",
    "    test = False\n",
    "    output_raw = softmax(output_raw)\n",
    "    if test:\n",
    "        output_raw = output_raw.numpy()\n",
    "        x = output_raw\n",
    "        b = ((x[:,0] < x[:,1]) | (x[:,0] < x[:,2])).astype('int') # 0 if ns, 1 if speech\n",
    "        c = ((0.1 * x[:,1]) < x[:,2]).astype('int') # 0 if ntss, 1 if tss\n",
    "\n",
    "        d = ((b == c) & (c != 0)).astype('int') * 2 #  2 if tss, 0 else\n",
    "        e = np.where((c == 0) & (b != 0), 1, 0)\n",
    "        output = torch.from_numpy(d+e)\n",
    "    else:\n",
    "        output = torch.argmax(output_raw, dim=1)\n",
    "        output_raw = output_raw.numpy()\n",
    "    o0 = np.kron(output_raw[:, 0], np.ones(160))\n",
    "    o1 = np.kron(output_raw[:, 1], np.ones(160))\n",
    "    o2 = np.kron(output_raw[:, 2], np.ones(160))\n",
    "    \n",
    "    #output_hard = output_raw > 0.5\n",
    "    ##output_conv = np.convolve(output_raw, conv_filter)\n",
    "    #output_conv = np.convolve(np.convolve(output_raw, conv_filter), conv_filter2)\n",
    "    #output_conv_hard = output_conv > 0.5\n",
    "    o_raw = np.kron(output, np.ones(160))\n",
    "    #o_hard = np.kron(output_hard, np.ones(160))\n",
    "    #o_smooth = np.kron(replace_zero_sequences(output_hard, 8), np.ones(160))\n",
    "    #o_conv = np.kron(output_conv, np.ones(160))"
   ]
  },
  {
   "cell_type": "code",
   "execution_count": 230,
   "metadata": {},
   "outputs": [],
   "source": [
    "def medfilt (x, k):\n",
    "    \"\"\"Apply a length-k median filter to a 1D array x.\n",
    "    Boundaries are extended by repeating endpoints.\n",
    "    \"\"\"\n",
    "    assert k % 2 == 1, \"Median filter length must be odd.\"\n",
    "    assert x.ndim == 1, \"Input must be one-dimensional.\"\n",
    "    k2 = (k - 1) // 2\n",
    "    y = np.zeros ((len (x), k), dtype=x.dtype)\n",
    "    y[:,k2] = x\n",
    "    for i in range (k2):\n",
    "        j = k2 - i\n",
    "        y[j:,i] = x[:-j]\n",
    "        y[:j,i] = x[0]\n",
    "        y[:-j,-(i+1)] = x[j:]\n",
    "        y[-j:,-(i+1)] = x[-1]\n",
    "    return np.median (y, axis=1)\n",
    "\n",
    "filtered = np.kron(medfilt(output.numpy(), 21), np.ones(160))"
   ]
  },
  {
   "cell_type": "code",
   "execution_count": 231,
   "metadata": {
    "scrolled": true
   },
   "outputs": [
    {
     "data": {
      "text/plain": [
       "Text(0.5, 1.0, 'pravděpodobnost TSS')"
      ]
     },
     "execution_count": 231,
     "metadata": {},
     "output_type": "execute_result"
    },
    {
     "data": {
      "image/png": "[encoded data removed]",
      "text/plain": [
       "<Figure size 1500x1000 with 8 Axes>"
      ]
     },
     "metadata": {},
     "output_type": "display_data"
    }
   ],
   "source": [
    "# Plot the original signal and labels plus the first two filterbank coefficients,\n",
    "# the original shortest sequence and the edited label vector\n",
    "mpl.style.use('default')\n",
    "fig, ax = plt.subplots(8, 1, figsize=(15,10), sharex=True)\n",
    "fig.tight_layout(pad=1.0)\n",
    "\n",
    "#ax[0].plot(audio + 1)\n",
    "ax[1].plot(new_y)\n",
    "##ax[2].plot(new_x)\n",
    "##ax[3].plot(seq)  # plot the position of the shortest sequence\n",
    "##ax[2].plot(np.kron(replace_zero_sequences(y, 13), np.ones(160))) # deleted super short sequences\n",
    "ax[2].plot(o_raw, 'green') # plot the vad prediction\n",
    "for axes in ax[3:6]:\n",
    "    axes.set_ylim(-0.05, 1.1)\n",
    "\n",
    "ax[3].plot(o0, 'C1') # plot the vad hard thresholded decision\n",
    "ax[4].plot(o1, 'C1') # plot the vad hard thresholded decision with short sequences removed\n",
    "ax[5].plot(o2, 'C1') # plot the vad filtered decision\n",
    "if x.shape[1] > 40:\n",
    "    ax[6].plot(np.kron(x[:,40], np.ones(160)), 'purple') # plot the scores\n",
    "ax[0].plot(filtered, 'red') # filtered, thresholded\n",
    "\n",
    "ax[0].set_title('Original signal, post-processed decision')\n",
    "ax[1].set_title('Ground truth')\n",
    "ax[2].set_title('PVAD thresholded decision')\n",
    "ax[3].set_title('NS probability')\n",
    "ax[4].set_title('NTSS probability')\n",
    "ax[5].set_title('TSS probability')"
   ]
  },
  {
   "cell_type": "markdown",
   "metadata": {},
   "source": [
    "## mAP evaluation\n",
    "Before proceeding, select the evaluated model architecture, score type, and whether to evaluate the model for clean or augmented speech.\n",
    "\n",
    "Additionally, the model name can be specified in the load_state_dict() function... Take a look in the model directory to see the list of available models...."
   ]
  },
  {
   "cell_type": "code",
   "execution_count": 7,
   "metadata": {},
   "outputs": [],
   "source": [
    "# change these two based upon the evaluated model..\n",
    "arch = 'st' # in ['et', 'st', 'set', 'xvec', 'ivec']\n",
    "score_type = 2 # scoring method.. 0 (baseline), 1 (PC), 2 (LI)\n",
    "\n",
    "batch_size_test = 64\n",
    "test_dir = '/home/pirx/Devel/bp/personalVAD/data/train_dir/'\n",
    "os.chdir(test_dir)\n",
    "\n",
    "# load the evaluated model and create the corresponding dataset object\n",
    "if arch == 'et':\n",
    "    model = PersonalVAD(input_dim=296, hidden_dim=64, num_layers=2, out_dim=3)\n",
    "    model.load_state_dict(torch.load('models/final/vad_et_10ep_tanh_wpl_0.5.pt'))\n",
    "    test_data = VadETDatasetArk('data/test_clean', 'embeddings')\n",
    "\n",
    "elif arch == 'set':\n",
    "    model = PersonalVAD(input_dim=297, hidden_dim=64, num_layers=2, out_dim=3)\n",
    "    model.load_state_dict(torch.load('models/final/vad_set_tanh_score1_10ep.pt'))\n",
    "    test_data = VadSETDatasetArk('data/test', 'embeddings', score_type)\n",
    "\n",
    "elif arch == 'st':\n",
    "    model = PersonalVAD(input_dim=41, hidden_dim=64, num_layers=2, out_dim=3)\n",
    "    model.load_state_dict(torch.load('models/final/vad_st_tanh_score2_8ep.pt'))\n",
    "    test_data = VadSTDatasetArk('data/test_clean', score_type)\n",
    "        \n",
    "elif arch == 'xvec':\n",
    "    model = PersonalVAD(input_dim=552, hidden_dim=64, num_layers=2, out_dim=3)\n",
    "    model.load_state_dict(torch.load('models/vad_et_7ep_xvec.pt'))\n",
    "    test_data = VadETDatasetArkX('data/test_clean', 'embeddings_xvec')\n",
    "    \n",
    "elif arch == 'ivec':\n",
    "    #TODO\n",
    "    model = PersonalVAD(input_dim=552, hidden_dim=64, num_layers=2, out_dim=3)\n",
    "    model.load_state_dict(torch.load('models/vad_et_7ep_xvec.pt'))\n",
    "    test_data = VadETDatasetArkI('data/test_clean', 'embeddings_xvec')\n",
    "    \n",
    "else:\n",
    "    # we should not get here\n",
    "    model = None\n",
    "    pass\n",
    "\n",
    "test_loader = DataLoader(\n",
    "        dataset=test_data, batch_size=batch_size_test, num_workers=2, shuffle=False, collate_fn=pad_collate)\n",
    "\n",
    "# set the device to cuda and move the model to the gpu\n",
    "device = torch.device('cuda') if torch.cuda.is_available() else torch.device('cpu')\n",
    "model = model.to(device)"
   ]
  },
  {
   "cell_type": "code",
   "execution_count": 9,
   "metadata": {},
   "outputs": [
    {
     "name": "stderr",
     "output_type": "stream",
     "text": [
      "/home/pirx/Devel/bp/personalVAD/src/vad_st.py:81: UserWarning: The given NumPy array is not writeable, and PyTorch does not support non-writeable tensors. This means you can write to the underlying (supposedly non-writeable) NumPy array using the tensor. You may want to copy the array to protect its data or make it writeable before converting it to a tensor. This type of warning will be suppressed for the rest of this program. (Triggered internally at  /pytorch/torch/csrc/utils/tensor_numpy.cpp:141.)\n",
      "  y = torch.from_numpy(y).long()\n",
      "/home/pirx/Devel/bp/personalVAD/src/vad_st.py:81: UserWarning: The given NumPy array is not writeable, and PyTorch does not support non-writeable tensors. This means you can write to the underlying (supposedly non-writeable) NumPy array using the tensor. You may want to copy the array to protect its data or make it writeable before converting it to a tensor. This type of warning will be suppressed for the rest of this program. (Triggered internally at  /pytorch/torch/csrc/utils/tensor_numpy.cpp:141.)\n",
      "  y = torch.from_numpy(y).long()\n"
     ]
    },
    {
     "name": "stdout",
     "output_type": "stream",
     "text": [
      "(7575583,)\n",
      "(7575583, 3)\n"
     ]
    }
   ],
   "source": [
    "# mAP evaluation\n",
    "softmax = torch.nn.Softmax(dim=1)\n",
    "sigmoid = torch.nn.Sigmoid()\n",
    "targets = []\n",
    "outputs = []\n",
    "\n",
    "#weights = torch.tensor([1.0, 0.1, 1.0]).to(device)\n",
    "#criterion = WPL(weights)\n",
    "\n",
    "with torch.no_grad():\n",
    "    n_correct = 0\n",
    "    n_samples = 0\n",
    "    for x_padded, y_padded, x_lens, y_lens in test_loader:\n",
    "        y_padded = y_padded.to(device)\n",
    "\n",
    "        # pass the data through the model\n",
    "        out_padded, _ = model(x_padded.to(device), x_lens, None)\n",
    "\n",
    "        # value, index\n",
    "        for j in range(out_padded.size(0)):\n",
    "            #loss = criterion(out_padded[j][:y_lens[j]], y_padded[j][:y_lens[j]])\n",
    "            #print(loss)\n",
    "            #break\n",
    "            \n",
    "            p = softmax(out_padded[j][:y_lens[j]])\n",
    "            \n",
    "            outputs.append(p.cpu().numpy())\n",
    "            targets.append(y_padded[j][:y_lens[j]].cpu().numpy())\n",
    "                \n",
    "targets = np.concatenate(targets)\n",
    "outputs = np.concatenate(outputs)\n",
    "print(targets.shape)\n",
    "print(outputs.shape)"
   ]
  },
  {
   "cell_type": "code",
   "execution_count": 10,
   "metadata": {},
   "outputs": [
    {
     "name": "stdout",
     "output_type": "stream",
     "text": [
      "[0.93471805 0.97433739 0.97609702]\n",
      "mAP: 0.969809300002235\n"
     ]
    }
   ],
   "source": [
    "# convert the target array to one hot\n",
    "targets_oh = np.eye(3)[targets]\n",
    "\n",
    "# and run the AP\n",
    "out_AP = average_precision_score(targets_oh, outputs, average=None)\n",
    "mAP = average_precision_score(targets_oh, outputs, average='micro')\n",
    "\n",
    "# print the average precision scores for all classes as well as the micro-averaged mean average precision score\n",
    "print(out_AP) \n",
    "print(f\"mAP: {mAP}\")"
   ]
  },
  {
   "cell_type": "code",
   "execution_count": 12,
   "metadata": {},
   "outputs": [
    {
     "data": {
      "text/plain": [
       "0.9086128420743328"
      ]
     },
     "execution_count": 12,
     "metadata": {},
     "output_type": "execute_result"
    },
    {
     "data": {
      "image/png": "[encoded data removed]",
      "text/plain": [
       "<Figure size 432x288 with 2 Axes>"
      ]
     },
     "metadata": {
      "needs_background": "light"
     },
     "output_type": "display_data"
    }
   ],
   "source": [
    "from sklearn.metrics import precision_score, accuracy_score, ConfusionMatrixDisplay\n",
    "classes = np.argmax(outputs, axis=1)\n",
    "cm = confusion_matrix(classes, targets, normalize='pred')\n",
    "\n",
    "# compute and plot the model confusion matrix\n",
    "disp = ConfusionMatrixDisplay(confusion_matrix=cm,  display_labels=['ns', 'ntss', 'tss'])\n",
    "disp.plot()\n",
    "\n",
    "# compute model accuracy\n",
    "acc = accuracy_score(classes, targets)\n",
    "print(\"accuracy:\", acc)"
   ]
  },
  {
   "cell_type": "markdown",
   "metadata": {},
   "source": [
    "## Baseline VAD evaluation\n",
    "This part of the notebook allows for baseline VAD system evaluation."
   ]
  },
  {
   "cell_type": "code",
   "execution_count": 18,
   "metadata": {},
   "outputs": [],
   "source": [
    "from vad import VadDataset, VadDatasetArk"
   ]
  },
  {
   "cell_type": "code",
   "execution_count": 45,
   "metadata": {},
   "outputs": [],
   "source": [
    "model = PersonalVAD(input_dim=40, hidden_dim=64, num_layers=2, out_dim=2, linear=False)\n",
    "model.load_state_dict(torch.load('models/final/vad_tanh_6ep.pt'))\n",
    "test_data = VadDatasetArk('data/test_clean')\n",
    "\n",
    "device = torch.device('cuda') if torch.cuda.is_available() else torch.device('cpu')\n",
    "model = model.to(device)\n",
    "\n",
    "test_loader = DataLoader(\n",
    "        dataset=test_data, batch_size=batch_size_test, num_workers=1, shuffle=False, collate_fn=pad_collate)"
   ]
  },
  {
   "cell_type": "code",
   "execution_count": 46,
   "metadata": {},
   "outputs": [
    {
     "name": "stderr",
     "output_type": "stream",
     "text": [
      "/home/pirx/Devel/bp/personalVAD/src/vad.py:72: UserWarning: The given NumPy array is not writeable, and PyTorch does not support non-writeable tensors. This means you can write to the underlying (supposedly non-writeable) NumPy array using the tensor. You may want to copy the array to protect its data or make it writeable before converting it to a tensor. This type of warning will be suppressed for the rest of this program. (Triggered internally at  /pytorch/torch/csrc/utils/tensor_numpy.cpp:141.)\n",
      "  x = torch.from_numpy(x).float()\n"
     ]
    },
    {
     "name": "stdout",
     "output_type": "stream",
     "text": [
      "(7575583,)\n",
      "(7575583, 2)\n"
     ]
    }
   ],
   "source": [
    "# mAP evaluation\n",
    "softmax = torch.nn.Softmax(dim=1)\n",
    "targets = []\n",
    "outputs = []\n",
    "\n",
    "with torch.no_grad():\n",
    "    for x_padded, y_padded, x_lens, y_lens in test_loader:\n",
    "        y_padded = y_padded.to(device)\n",
    "\n",
    "        # pass the data through the model\n",
    "        out_padded, _ = model(x_padded.to(device), x_lens, None)\n",
    "\n",
    "        # value, index\n",
    "        for j in range(out_padded.size(0)):\n",
    "            p = out_padded[j][:y_lens[j]]\n",
    "            \n",
    "            outputs.append(p.cpu().numpy())\n",
    "            targets.append(y_padded[j][:y_lens[j]].cpu().numpy())\n",
    "                \n",
    "targets = np.concatenate(targets)\n",
    "outputs = np.concatenate(outputs)\n",
    "print(targets.shape)\n",
    "print(outputs.shape)"
   ]
  },
  {
   "cell_type": "code",
   "execution_count": 47,
   "metadata": {},
   "outputs": [
    {
     "name": "stdout",
     "output_type": "stream",
     "text": [
      "[0.94726461 0.99788884]\n",
      "mAP: 0.9946104658384344\n",
      "accuracy: 0.963356219580724\n"
     ]
    }
   ],
   "source": [
    "# convert the target array to one hot\n",
    "targets_oh = np.eye(2)[targets.astype(int)]\n",
    "outputs_oh = np.hstack((1 - outputs, outputs))\n",
    "\n",
    "# and run the AP\n",
    "out_AP = average_precision_score(targets_oh, outputs, average=None)\n",
    "mAP = average_precision_score(targets_oh, outputs, average='micro')\n",
    "\n",
    "print(out_AP) \n",
    "print(f\"mAP: {mAP}\")\n",
    "print(\"accuracy:\", accuracy_score(targets, np.argmax(outputs, axis=1)))"
   ]
  },
  {
   "cell_type": "raw",
   "metadata": {},
   "source": [
    "VAD linear clean\n",
    "[0.949  0.998]\n",
    "mAP: 0.995\n",
    "accuracy: 96.48\n",
    "\n",
    "VAD linear aug\n",
    "[0.915 0.996]\n",
    "mAP: 0.991\n",
    "accuracy: 94.93\n",
    "\n",
    "VAD tanh clean\n",
    "[0.947 0.998]\n",
    "mAP: 0.995\n",
    "accuracy: 96.34\n",
    "\n",
    "VAD tanh aug\n",
    "[0.913 0.996]\n",
    "mAP: 0.990\n",
    "accuracy: 94.85\n",
    "\n",
    "\n",
    "VAD, clean\n",
    "[0.93522009 0.99715725]\n",
    "mAP: 0.9928562257073573"
   ]
  },
  {
   "cell_type": "markdown",
   "metadata": {},
   "source": [
    "# Baseline system"
   ]
  },
  {
   "cell_type": "code",
   "execution_count": 62,
   "metadata": {},
   "outputs": [],
   "source": [
    "from torch.utils.data import Dataset\n",
    "from torch.nn.utils.rnn import pad_sequence\n",
    "\n",
    "test_dir = '/home/pirx/Devel/bp/personalVAD/data/train_dir/'\n",
    "os.chdir(test_dir)\n",
    "class BaselineDataset(Dataset):\n",
    "    \"\"\"VadST training dataset. Uses kaldi scp and ark files.\"\"\"\n",
    "\n",
    "    def __init__(self, root_dir, score_type):\n",
    "        self.root_dir = root_dir\n",
    "        self.score_type = score_type\n",
    "\n",
    "        self.fbanks = kaldiio.load_scp(f'{self.root_dir}/fbanks.scp')\n",
    "        self.scores = kaldiio.load_scp(f'{self.root_dir}/scores.scp')\n",
    "        self.labels = kaldiio.load_scp(f'{self.root_dir}/labels.scp')\n",
    "        self.keys = np.array(list(self.fbanks)) # get all the keys\n",
    "\n",
    "    def __len__(self):\n",
    "        return self.keys.size\n",
    "\n",
    "    def __getitem__(self, idx):\n",
    "        key = self.keys[idx]\n",
    "        x = self.fbanks[key]\n",
    "        scores = self.scores[key][self.score_type,:]\n",
    "        y = self.labels[key]\n",
    "\n",
    "        x = torch.from_numpy(x).float()\n",
    "        scores = torch.from_numpy(scores).float()\n",
    "        y = torch.from_numpy(y).long()\n",
    "        return x, scores, y\n",
    "\n",
    "def baseline_pad_collate(batch):\n",
    "    \"\"\"Padding function used to deal with batches of sequences of variable lengths.\n",
    "\n",
    "    Returns:\n",
    "        tuple: A tuple containing:\n",
    "            \n",
    "            xx_pad (torch.tensor): Padded feature vector.\n",
    "            yy_pad (torch.tensor): Padded ground truth vector.\n",
    "            x_lens (torch.tensor): Lengths of the original feature vectors within the batch.\n",
    "            y_lens (torch.tensor): Lengths of the original ground truth vectors within the batch.\n",
    "\n",
    "    \"\"\"\n",
    "\n",
    "    (xx, scores, yy) = zip(*batch)\n",
    "    x_lens = [len(x) for x in xx]\n",
    "    y_lens = [len(y) for y in yy]\n",
    "\n",
    "    xx_pad = pad_sequence(xx, batch_first=True, padding_value=0)\n",
    "    yy_pad = pad_sequence(yy, batch_first=True, padding_value=0)\n",
    "\n",
    "    return xx_pad, yy_pad, scores, x_lens, y_lens"
   ]
  },
  {
   "cell_type": "code",
   "execution_count": 72,
   "metadata": {},
   "outputs": [],
   "source": [
    "model = PersonalVAD(input_dim=40, hidden_dim=64, num_layers=2, out_dim=2, use_fc=True, linear=True)\n",
    "model.load_state_dict(torch.load('models/final/vad_linear_6ep.pt'))\n",
    "test_data = BaselineDataset('data/test', 0)\n",
    "\n",
    "device = torch.device('cuda') if torch.cuda.is_available() else torch.device('cpu')\n",
    "model = model.to(device)\n",
    "\n",
    "test_loader = DataLoader(\n",
    "        dataset=test_data, batch_size=64, num_workers=2, shuffle=False, collate_fn=baseline_pad_collate)"
   ]
  },
  {
   "cell_type": "code",
   "execution_count": 73,
   "metadata": {},
   "outputs": [
    {
     "name": "stderr",
     "output_type": "stream",
     "text": [
      "<ipython-input-62-362225e0314a>:27: UserWarning: The given NumPy array is not writeable, and PyTorch does not support non-writeable tensors. This means you can write to the underlying (supposedly non-writeable) NumPy array using the tensor. You may want to copy the array to protect its data or make it writeable before converting it to a tensor. This type of warning will be suppressed for the rest of this program. (Triggered internally at  /pytorch/torch/csrc/utils/tensor_numpy.cpp:141.)\n",
      "  x = torch.from_numpy(x).float()\n",
      "<ipython-input-62-362225e0314a>:27: UserWarning: The given NumPy array is not writeable, and PyTorch does not support non-writeable tensors. This means you can write to the underlying (supposedly non-writeable) NumPy array using the tensor. You may want to copy the array to protect its data or make it writeable before converting it to a tensor. This type of warning will be suppressed for the rest of this program. (Triggered internally at  /pytorch/torch/csrc/utils/tensor_numpy.cpp:141.)\n",
      "  x = torch.from_numpy(x).float()\n"
     ]
    },
    {
     "name": "stdout",
     "output_type": "stream",
     "text": [
      "(30302332,)\n",
      "(30302332, 3)\n"
     ]
    }
   ],
   "source": [
    "# mAP evaluation\n",
    "softmax = torch.nn.Softmax(dim=1)\n",
    "sigmoid = torch.nn.Sigmoid()\n",
    "targets = []\n",
    "outputs = []\n",
    "is_tss = []\n",
    "\n",
    "with torch.no_grad():\n",
    "    for x_padded, y_padded, scores, x_lens, y_lens in test_loader:\n",
    "        # pass the data through the model\n",
    "        out_padded, _ = model(x_padded.to(device), x_lens, None)\n",
    "\n",
    "        # value, index\n",
    "        for j in range(out_padded.size(0)):\n",
    "            score = scores[j]\n",
    "            x = out_padded[j][:y_lens[j]].cpu()\n",
    "            x = softmax(x)\n",
    "            \n",
    "            # now combine the scores with the vad probability to obtain class probabilities\n",
    "            ns = x[:,0]\n",
    "            ntss = x[:,1] * (1 - score)\n",
    "            tss = x[:,1] * score\n",
    "            \n",
    "            \"\"\"\n",
    "            print(ns[200:220])\n",
    "            print(ntss[200:220])\n",
    "            print(tss[200:220])\n",
    "            \"\"\"\n",
    "            \n",
    "            x2 = x.numpy()\n",
    "            score2 = score.numpy()\n",
    "            b = (x2[:,0] < x2[:,1]).astype('int') # 0 if ns, 1 if speech\n",
    "            c = (score2 > 0.5329).astype('int') # 0 if ntss, 1 if tss\n",
    "            \n",
    "            d = ((b == c) & (b != 0)).astype('int') * 2 #  2 if tss, 0 else\n",
    "            e = np.where((c == 0) & (b != 0), 1, 0)\n",
    "            is_tss.append(d + e)\n",
    "            \n",
    "            out = torch.stack((ns, ntss, tss)).T\n",
    "            \n",
    "            out = softmax(out)\n",
    "            \"\"\"\n",
    "            print(out[200:220,:])\n",
    "            print(score[200:220])\n",
    "            print(y_padded[j][:y_lens[j]][200:220])\n",
    "            \"\"\"\n",
    "            outputs.append(out.numpy())\n",
    "            targets.append(y_padded[j][:y_lens[j]].numpy())\n",
    "                \n",
    "targets = np.concatenate(targets)\n",
    "outputs = np.concatenate(outputs)\n",
    "is_tss = np.concatenate(is_tss)\n",
    "print(targets.shape)\n",
    "print(outputs.shape)"
   ]
  },
  {
   "cell_type": "code",
   "execution_count": 65,
   "metadata": {},
   "outputs": [
    {
     "name": "stdout",
     "output_type": "stream",
     "text": [
      "[0.94794836 0.96409969 0.96492579]\n",
      "mAP: 0.8658365408073597\n",
      "accuracy: 0.7491051183783479\n"
     ]
    }
   ],
   "source": [
    "# convert the target array to one hot\n",
    "targets_oh = np.eye(3)[targets]\n",
    "\n",
    "# and run the AP\n",
    "out_AP = average_precision_score(targets_oh, outputs, average=None)\n",
    "mAP = average_precision_score(targets_oh, outputs, average='micro')\n",
    "\n",
    "print(out_AP) \n",
    "print(f\"mAP: {mAP}\")\n",
    "print(\"accuracy:\", accuracy_score(targets, np.argmax(outputs, axis=1)))"
   ]
  },
  {
   "cell_type": "raw",
   "metadata": {},
   "source": [
    "clean\n",
    "[0.948 0.846 0.864]\n",
    "mAP: 0.825\n",
    "accuracy: 73.44\n",
    "\n",
    "aug\n",
    "[0.915 0.775 0.811]\n",
    "mAP: 0.796\n",
    "accuracy: 72.09\n",
    "\n",
    "\n",
    "\n",
    "[0.94888638 0.84420556 0.85730015] # sigmoid\n",
    "mAP: 0.8273843227054403\n",
    "\n",
    "[0.94834975 0.84592221 0.86436399] # softmax\n",
    "mAP: 0.8246497036099877\n",
    "\n",
    "[0.94893682 0.8346856  0.84276145] # no activation\n",
    "mAP: 0.8132037357582061"
   ]
  },
  {
   "cell_type": "code",
   "execution_count": 74,
   "metadata": {},
   "outputs": [
    {
     "name": "stdout",
     "output_type": "stream",
     "text": [
      "0.7446200840252163\n",
      "0.7209467574970798\n"
     ]
    }
   ],
   "source": [
    "acc = (targets == is_tss).sum() / targets.size\n",
    "print(acc)\n",
    "from sklearn.metrics import precision_score\n",
    "\n",
    "classes = np.argmax(outputs, axis=1)\n",
    "print(precision_score(targets, classes, average='micro'))"
   ]
  },
  {
   "cell_type": "raw",
   "metadata": {},
   "source": [
    "clean, score 1\n",
    "[0.93427439 0.96061919 0.96063792]\n",
    "mAP: 0.8592365003279788\n",
    "\n",
    "aug, score 1\n",
    "[0.89774673 0.90837077 0.91546736]\n",
    "mAP: 0.839094734151881\n",
    "\n",
    "\n",
    "clean, score 0\n",
    "[0.93471968 0.84227971 0.85994073]\n",
    "mAP: 0.8173379803525117\n",
    "\n",
    "aug, score 0\n",
    "[0.89794923 0.77060733 0.80646582]\n",
    "mAP: 0.7878577106778799"
   ]
  }
 ],
 "metadata": {
  "kernelspec": {
   "display_name": "Python 3",
   "language": "python",
   "name": "python3"
  },
  "language_info": {
   "codemirror_mode": {
    "name": "ipython",
    "version": 3
   },
   "file_extension": ".py",
   "mimetype": "text/x-python",
   "name": "python",
   "nbconvert_exporter": "python",
   "pygments_lexer": "ipython3",
   "version": "3.9.4"
  }
 },
 "nbformat": 4,
 "nbformat_minor": 4
}
